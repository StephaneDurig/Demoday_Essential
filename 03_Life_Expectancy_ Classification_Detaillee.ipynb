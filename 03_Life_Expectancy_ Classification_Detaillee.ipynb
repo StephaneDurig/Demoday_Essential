{
 "cells": [
  {
   "attachments": {},
   "cell_type": "markdown",
   "metadata": {},
   "source": [
    "# I - Préparation du DataFrame"
   ]
  },
  {
   "attachments": {},
   "cell_type": "markdown",
   "metadata": {},
   "source": [
    "### 1 - Import des bibilothèques"
   ]
  },
  {
   "cell_type": "code",
   "execution_count": 26,
   "metadata": {},
   "outputs": [],
   "source": [
    "import pandas as pd\n",
    "import numpy as np # Not always necessary\n",
    "import matplotlib.pyplot as plt # Not always necessary\n",
    "import seaborn as sns # Not always necessary\n",
    "from sklearn.model_selection import train_test_split\n",
    "from sklearn.preprocessing import StandardScaler, OneHotEncoder\n",
    "from sklearn.compose import ColumnTransformer\n",
    "from sklearn.linear_model import LogisticRegression\n",
    "from sklearn.tree import DecisionTreeClassifier\n",
    "from sklearn.ensemble import RandomForestClassifier\n",
    "# from sklearn.metrics import plot_confusion_matrix\n",
    "from sklearn.metrics import ConfusionMatrixDisplay"
   ]
  },
  {
   "attachments": {},
   "cell_type": "markdown",
   "metadata": {},
   "source": [
    "### 2 - Import des données dans un DataFrame"
   ]
  },
  {
   "cell_type": "code",
   "execution_count": 27,
   "metadata": {},
   "outputs": [],
   "source": [
    "df = pd.read_csv(r'C:\\Users\\capit\\OneDrive\\Bureau\\Demoday Essential Git\\Life Expectancy Data.csv')"
   ]
  },
  {
   "attachments": {},
   "cell_type": "markdown",
   "metadata": {},
   "source": [
    "### 3 - Connaitre son DataFrame"
   ]
  },
  {
   "cell_type": "code",
   "execution_count": 28,
   "metadata": {},
   "outputs": [
    {
     "name": "stdout",
     "output_type": "stream",
     "text": [
      "Le nombre de lignes, colonnes est de  (2938, 22)\n"
     ]
    }
   ],
   "source": [
    "# Le nombre de lignes et de colonnes\n",
    "print('Le nombre de lignes, colonnes est de ', format(df.shape))"
   ]
  },
  {
   "cell_type": "code",
   "execution_count": 29,
   "metadata": {},
   "outputs": [
    {
     "data": {
      "text/html": [
       "<div>\n",
       "<style scoped>\n",
       "    .dataframe tbody tr th:only-of-type {\n",
       "        vertical-align: middle;\n",
       "    }\n",
       "\n",
       "    .dataframe tbody tr th {\n",
       "        vertical-align: top;\n",
       "    }\n",
       "\n",
       "    .dataframe thead th {\n",
       "        text-align: right;\n",
       "    }\n",
       "</style>\n",
       "<table border=\"1\" class=\"dataframe\">\n",
       "  <thead>\n",
       "    <tr style=\"text-align: right;\">\n",
       "      <th></th>\n",
       "      <th>Country</th>\n",
       "      <th>Year</th>\n",
       "      <th>Status</th>\n",
       "      <th>Life expectancy</th>\n",
       "      <th>Adult Mortality</th>\n",
       "      <th>infant deaths</th>\n",
       "      <th>Alcohol</th>\n",
       "      <th>percentage expenditure</th>\n",
       "      <th>Hepatitis B</th>\n",
       "      <th>Measles</th>\n",
       "      <th>...</th>\n",
       "      <th>Polio</th>\n",
       "      <th>Total expenditure</th>\n",
       "      <th>Diphtheria</th>\n",
       "      <th>HIV/AIDS</th>\n",
       "      <th>GDP</th>\n",
       "      <th>Population</th>\n",
       "      <th>thinness  1-19 years</th>\n",
       "      <th>thinness 5-9 years</th>\n",
       "      <th>Income composition of resources</th>\n",
       "      <th>Schooling</th>\n",
       "    </tr>\n",
       "  </thead>\n",
       "  <tbody>\n",
       "    <tr>\n",
       "      <th>0</th>\n",
       "      <td>Afghanistan</td>\n",
       "      <td>2015</td>\n",
       "      <td>Developing</td>\n",
       "      <td>65.0</td>\n",
       "      <td>263.0</td>\n",
       "      <td>62</td>\n",
       "      <td>0.01</td>\n",
       "      <td>71.279624</td>\n",
       "      <td>65.0</td>\n",
       "      <td>1154</td>\n",
       "      <td>...</td>\n",
       "      <td>6.0</td>\n",
       "      <td>8.16</td>\n",
       "      <td>65.0</td>\n",
       "      <td>0.1</td>\n",
       "      <td>584.259210</td>\n",
       "      <td>33736494.0</td>\n",
       "      <td>17.2</td>\n",
       "      <td>17.3</td>\n",
       "      <td>0.479</td>\n",
       "      <td>10.1</td>\n",
       "    </tr>\n",
       "    <tr>\n",
       "      <th>1</th>\n",
       "      <td>Afghanistan</td>\n",
       "      <td>2014</td>\n",
       "      <td>Developing</td>\n",
       "      <td>59.9</td>\n",
       "      <td>271.0</td>\n",
       "      <td>64</td>\n",
       "      <td>0.01</td>\n",
       "      <td>73.523582</td>\n",
       "      <td>62.0</td>\n",
       "      <td>492</td>\n",
       "      <td>...</td>\n",
       "      <td>58.0</td>\n",
       "      <td>8.18</td>\n",
       "      <td>62.0</td>\n",
       "      <td>0.1</td>\n",
       "      <td>612.696514</td>\n",
       "      <td>327582.0</td>\n",
       "      <td>17.5</td>\n",
       "      <td>17.5</td>\n",
       "      <td>0.476</td>\n",
       "      <td>10.0</td>\n",
       "    </tr>\n",
       "    <tr>\n",
       "      <th>2</th>\n",
       "      <td>Afghanistan</td>\n",
       "      <td>2013</td>\n",
       "      <td>Developing</td>\n",
       "      <td>59.9</td>\n",
       "      <td>268.0</td>\n",
       "      <td>66</td>\n",
       "      <td>0.01</td>\n",
       "      <td>73.219243</td>\n",
       "      <td>64.0</td>\n",
       "      <td>430</td>\n",
       "      <td>...</td>\n",
       "      <td>62.0</td>\n",
       "      <td>8.13</td>\n",
       "      <td>64.0</td>\n",
       "      <td>0.1</td>\n",
       "      <td>631.744976</td>\n",
       "      <td>31731688.0</td>\n",
       "      <td>17.7</td>\n",
       "      <td>17.7</td>\n",
       "      <td>0.470</td>\n",
       "      <td>9.9</td>\n",
       "    </tr>\n",
       "    <tr>\n",
       "      <th>3</th>\n",
       "      <td>Afghanistan</td>\n",
       "      <td>2012</td>\n",
       "      <td>Developing</td>\n",
       "      <td>59.5</td>\n",
       "      <td>272.0</td>\n",
       "      <td>69</td>\n",
       "      <td>0.01</td>\n",
       "      <td>78.184215</td>\n",
       "      <td>67.0</td>\n",
       "      <td>2787</td>\n",
       "      <td>...</td>\n",
       "      <td>67.0</td>\n",
       "      <td>8.52</td>\n",
       "      <td>67.0</td>\n",
       "      <td>0.1</td>\n",
       "      <td>669.959000</td>\n",
       "      <td>3696958.0</td>\n",
       "      <td>17.9</td>\n",
       "      <td>18.0</td>\n",
       "      <td>0.463</td>\n",
       "      <td>9.8</td>\n",
       "    </tr>\n",
       "    <tr>\n",
       "      <th>4</th>\n",
       "      <td>Afghanistan</td>\n",
       "      <td>2011</td>\n",
       "      <td>Developing</td>\n",
       "      <td>59.2</td>\n",
       "      <td>275.0</td>\n",
       "      <td>71</td>\n",
       "      <td>0.01</td>\n",
       "      <td>7.097109</td>\n",
       "      <td>68.0</td>\n",
       "      <td>3013</td>\n",
       "      <td>...</td>\n",
       "      <td>68.0</td>\n",
       "      <td>7.87</td>\n",
       "      <td>68.0</td>\n",
       "      <td>0.1</td>\n",
       "      <td>63.537231</td>\n",
       "      <td>2978599.0</td>\n",
       "      <td>18.2</td>\n",
       "      <td>18.2</td>\n",
       "      <td>0.454</td>\n",
       "      <td>9.5</td>\n",
       "    </tr>\n",
       "  </tbody>\n",
       "</table>\n",
       "<p>5 rows × 22 columns</p>\n",
       "</div>"
      ],
      "text/plain": [
       "       Country  Year      Status  Life expectancy   Adult Mortality  \\\n",
       "0  Afghanistan  2015  Developing              65.0            263.0   \n",
       "1  Afghanistan  2014  Developing              59.9            271.0   \n",
       "2  Afghanistan  2013  Developing              59.9            268.0   \n",
       "3  Afghanistan  2012  Developing              59.5            272.0   \n",
       "4  Afghanistan  2011  Developing              59.2            275.0   \n",
       "\n",
       "   infant deaths  Alcohol  percentage expenditure  Hepatitis B  Measles   ...  \\\n",
       "0             62     0.01               71.279624         65.0      1154  ...   \n",
       "1             64     0.01               73.523582         62.0       492  ...   \n",
       "2             66     0.01               73.219243         64.0       430  ...   \n",
       "3             69     0.01               78.184215         67.0      2787  ...   \n",
       "4             71     0.01                7.097109         68.0      3013  ...   \n",
       "\n",
       "   Polio  Total expenditure  Diphtheria    HIV/AIDS         GDP  Population  \\\n",
       "0    6.0               8.16         65.0        0.1  584.259210  33736494.0   \n",
       "1   58.0               8.18         62.0        0.1  612.696514    327582.0   \n",
       "2   62.0               8.13         64.0        0.1  631.744976  31731688.0   \n",
       "3   67.0               8.52         67.0        0.1  669.959000   3696958.0   \n",
       "4   68.0               7.87         68.0        0.1   63.537231   2978599.0   \n",
       "\n",
       "    thinness  1-19 years   thinness 5-9 years  \\\n",
       "0                   17.2                 17.3   \n",
       "1                   17.5                 17.5   \n",
       "2                   17.7                 17.7   \n",
       "3                   17.9                 18.0   \n",
       "4                   18.2                 18.2   \n",
       "\n",
       "   Income composition of resources  Schooling  \n",
       "0                            0.479       10.1  \n",
       "1                            0.476       10.0  \n",
       "2                            0.470        9.9  \n",
       "3                            0.463        9.8  \n",
       "4                            0.454        9.5  \n",
       "\n",
       "[5 rows x 22 columns]"
      ]
     },
     "execution_count": 29,
     "metadata": {},
     "output_type": "execute_result"
    }
   ],
   "source": [
    "# Les premières lignes du DataFrame\n",
    "df.head(5)"
   ]
  },
  {
   "cell_type": "code",
   "execution_count": 30,
   "metadata": {},
   "outputs": [
    {
     "data": {
      "text/plain": [
       "Country                              0\n",
       "Year                                 0\n",
       "Status                               0\n",
       "Life expectancy                     10\n",
       "Adult Mortality                     10\n",
       "infant deaths                        0\n",
       "Alcohol                            194\n",
       "percentage expenditure               0\n",
       "Hepatitis B                        553\n",
       "Measles                              0\n",
       " BMI                                34\n",
       "under-five deaths                    0\n",
       "Polio                               19\n",
       "Total expenditure                  226\n",
       "Diphtheria                          19\n",
       " HIV/AIDS                            0\n",
       "GDP                                448\n",
       "Population                         652\n",
       " thinness  1-19 years               34\n",
       " thinness 5-9 years                 34\n",
       "Income composition of resources    167\n",
       "Schooling                          163\n",
       "dtype: int64"
      ]
     },
     "execution_count": 30,
     "metadata": {},
     "output_type": "execute_result"
    }
   ],
   "source": [
    "# Le nombre de lignes vides par colonnes\n",
    "df.isnull().sum()"
   ]
  },
  {
   "cell_type": "code",
   "execution_count": 31,
   "metadata": {},
   "outputs": [
    {
     "data": {
      "text/plain": [
       "count    2928.000000\n",
       "mean       69.224932\n",
       "std         9.523867\n",
       "min        36.300000\n",
       "25%        63.100000\n",
       "50%        72.100000\n",
       "75%        75.700000\n",
       "max        89.000000\n",
       "Name: Life expectancy , dtype: float64"
      ]
     },
     "execution_count": 31,
     "metadata": {},
     "output_type": "execute_result"
    }
   ],
   "source": [
    "# affiche les différents indicateurs\n",
    "\n",
    "## Sur la totalité du DataFrame \n",
    "df.describe(include='all')\n",
    "\n",
    "## Ou sur une colonne en particulier\n",
    "df['Life expectancy '].describe()\n"
   ]
  },
  {
   "attachments": {},
   "cell_type": "markdown",
   "metadata": {},
   "source": [
    "### 4 - Modifications des Données"
   ]
  },
  {
   "attachments": {},
   "cell_type": "markdown",
   "metadata": {},
   "source": [
    "#### 4.1 -  Modifications"
   ]
  },
  {
   "cell_type": "code",
   "execution_count": 32,
   "metadata": {},
   "outputs": [
    {
     "name": "stderr",
     "output_type": "stream",
     "text": [
      "C:\\Users\\capit\\AppData\\Local\\Temp\\ipykernel_7240\\627739513.py:4: FutureWarning: In a future version of pandas all arguments of DataFrame.drop except for the argument 'labels' will be keyword-only.\n",
      "  df=df.drop('Population',1) # le 1 correspond à la selection de la colonne complète\n"
     ]
    }
   ],
   "source": [
    "# Suppression de colonnes\n",
    "\n",
    "## Suppression de la colonne 'Population'\n",
    "df=df.drop('Population',1) # le 1 correspond à la selection de la colonne complète"
   ]
  },
  {
   "cell_type": "code",
   "execution_count": 33,
   "metadata": {},
   "outputs": [],
   "source": [
    "# Modifications des lignes vides\n",
    "\n",
    "## Modification des lignes vides par la valeur de la médiane regroupée par Pays\n",
    "for i in df.columns[4:-1]:\n",
    "    df[i] = df.groupby('Country')[i].fillna(df.groupby('Country')[i].transform('median'))"
   ]
  },
  {
   "cell_type": "code",
   "execution_count": 34,
   "metadata": {},
   "outputs": [
    {
     "data": {
      "text/plain": [
       "\"\\nfor i in df.columns[4:]:\\n    country_group = df.groupby('Country')\\n    median = country_group[i].transform('median')\\n    std = country_group[i].transform('std')\\n    lower_bound = median - 3 * std\\n    upper_bound = median + 3 * std\\n    df.loc[(df[i] < lower_bound) | (df[i] > upper_bound), i] = median\\n\""
      ]
     },
     "execution_count": 34,
     "metadata": {},
     "output_type": "execute_result"
    }
   ],
   "source": [
    "# Modifications des valeurs extrêmes ou abhérantes\n",
    "\n",
    "## Modification par la valeur de la médiane si la valeur cible est écartée de + ou - 3 sigma\n",
    "\n",
    "# Parcourt toutes les colonnes à partir de la quatrième colonne\n",
    "for col in df.columns[4:-1]:\n",
    "    # Calcule la médiane et l'écart type de chaque groupe par pays\n",
    "    group_stats = df.groupby('Country')[col].agg(['median', 'std'])\n",
    "\n",
    "    # Parcourt chaque groupe par pays\n",
    "    for country, stats in group_stats.iterrows():\n",
    "        # Récupère la médiane et l'écart type pour le pays courant\n",
    "        median = stats['median']\n",
    "        std = stats['std']\n",
    "\n",
    "        # Remplace les valeurs à plus de 3 sigma de la médiane par la médiane (ou moins de 3 sigma)\n",
    "        mask = (df['Country'] == country) & ((df[col] > median + 3 * std)  | (df[col] < median - 3 * std))\n",
    "        df.loc[mask, col] = median\n",
    "\n",
    "# Version de Valentin --> équivalente\n",
    "\"\"\"\n",
    "for i in df.columns[4:]:\n",
    "    country_group = df.groupby('Country')\n",
    "    median = country_group[i].transform('median')\n",
    "    std = country_group[i].transform('std')\n",
    "    lower_bound = median - 3 * std\n",
    "    upper_bound = median + 3 * std\n",
    "    df.loc[(df[i] < lower_bound) | (df[i] > upper_bound), i] = median\n",
    "\"\"\""
   ]
  },
  {
   "cell_type": "code",
   "execution_count": 35,
   "metadata": {},
   "outputs": [],
   "source": [
    "# Suppression des lignes vides\n",
    "\n",
    "# Suppression des lignes où il y a une données manquante\n",
    "df=df.dropna(axis=0) # le 0 correspond à la sélection de la ligne complète"
   ]
  },
  {
   "cell_type": "code",
   "execution_count": 36,
   "metadata": {},
   "outputs": [
    {
     "data": {
      "text/html": [
       "<div>\n",
       "<style scoped>\n",
       "    .dataframe tbody tr th:only-of-type {\n",
       "        vertical-align: middle;\n",
       "    }\n",
       "\n",
       "    .dataframe tbody tr th {\n",
       "        vertical-align: top;\n",
       "    }\n",
       "\n",
       "    .dataframe thead th {\n",
       "        text-align: right;\n",
       "    }\n",
       "</style>\n",
       "<table border=\"1\" class=\"dataframe\">\n",
       "  <thead>\n",
       "    <tr style=\"text-align: right;\">\n",
       "      <th></th>\n",
       "      <th>Country</th>\n",
       "      <th>Year</th>\n",
       "      <th>Status</th>\n",
       "      <th>Life expectancy</th>\n",
       "      <th>Adult Mortality</th>\n",
       "      <th>infant deaths</th>\n",
       "      <th>Alcohol</th>\n",
       "      <th>percentage expenditure</th>\n",
       "      <th>Hepatitis B</th>\n",
       "      <th>Measles</th>\n",
       "      <th>...</th>\n",
       "      <th>Polio</th>\n",
       "      <th>Total expenditure</th>\n",
       "      <th>Diphtheria</th>\n",
       "      <th>HIV/AIDS</th>\n",
       "      <th>GDP</th>\n",
       "      <th>thinness  1-19 years</th>\n",
       "      <th>thinness 5-9 years</th>\n",
       "      <th>Income composition of resources</th>\n",
       "      <th>Schooling</th>\n",
       "      <th>Life expectancy categories</th>\n",
       "    </tr>\n",
       "  </thead>\n",
       "  <tbody>\n",
       "    <tr>\n",
       "      <th>930</th>\n",
       "      <td>France</td>\n",
       "      <td>2015</td>\n",
       "      <td>Developing</td>\n",
       "      <td>82.4</td>\n",
       "      <td>78.0</td>\n",
       "      <td>3.0</td>\n",
       "      <td>12.20</td>\n",
       "      <td>0.000000</td>\n",
       "      <td>86.0</td>\n",
       "      <td>157.0</td>\n",
       "      <td>...</td>\n",
       "      <td>98.0</td>\n",
       "      <td>9.77</td>\n",
       "      <td>98.0</td>\n",
       "      <td>0.1</td>\n",
       "      <td>36526.77110</td>\n",
       "      <td>0.7</td>\n",
       "      <td>0.6</td>\n",
       "      <td>0.894</td>\n",
       "      <td>16.3</td>\n",
       "      <td>Elevé</td>\n",
       "    </tr>\n",
       "    <tr>\n",
       "      <th>931</th>\n",
       "      <td>France</td>\n",
       "      <td>2014</td>\n",
       "      <td>Developing</td>\n",
       "      <td>82.2</td>\n",
       "      <td>79.0</td>\n",
       "      <td>3.0</td>\n",
       "      <td>11.50</td>\n",
       "      <td>6739.677606</td>\n",
       "      <td>83.0</td>\n",
       "      <td>267.0</td>\n",
       "      <td>...</td>\n",
       "      <td>98.0</td>\n",
       "      <td>11.54</td>\n",
       "      <td>98.0</td>\n",
       "      <td>0.1</td>\n",
       "      <td>42955.24287</td>\n",
       "      <td>0.6</td>\n",
       "      <td>0.6</td>\n",
       "      <td>0.890</td>\n",
       "      <td>16.2</td>\n",
       "      <td>Elevé</td>\n",
       "    </tr>\n",
       "    <tr>\n",
       "      <th>932</th>\n",
       "      <td>France</td>\n",
       "      <td>2013</td>\n",
       "      <td>Developing</td>\n",
       "      <td>82.0</td>\n",
       "      <td>81.0</td>\n",
       "      <td>3.0</td>\n",
       "      <td>11.10</td>\n",
       "      <td>6646.953935</td>\n",
       "      <td>74.0</td>\n",
       "      <td>272.0</td>\n",
       "      <td>...</td>\n",
       "      <td>99.0</td>\n",
       "      <td>11.56</td>\n",
       "      <td>99.0</td>\n",
       "      <td>0.1</td>\n",
       "      <td>42554.12250</td>\n",
       "      <td>0.6</td>\n",
       "      <td>0.6</td>\n",
       "      <td>0.887</td>\n",
       "      <td>16.2</td>\n",
       "      <td>Elevé</td>\n",
       "    </tr>\n",
       "    <tr>\n",
       "      <th>933</th>\n",
       "      <td>France</td>\n",
       "      <td>2012</td>\n",
       "      <td>Developing</td>\n",
       "      <td>81.5</td>\n",
       "      <td>83.0</td>\n",
       "      <td>3.0</td>\n",
       "      <td>11.50</td>\n",
       "      <td>751.379355</td>\n",
       "      <td>78.0</td>\n",
       "      <td>0.0</td>\n",
       "      <td>...</td>\n",
       "      <td>99.0</td>\n",
       "      <td>11.44</td>\n",
       "      <td>99.0</td>\n",
       "      <td>0.1</td>\n",
       "      <td>4838.24440</td>\n",
       "      <td>0.6</td>\n",
       "      <td>0.6</td>\n",
       "      <td>0.885</td>\n",
       "      <td>16.1</td>\n",
       "      <td>Elevé</td>\n",
       "    </tr>\n",
       "    <tr>\n",
       "      <th>934</th>\n",
       "      <td>France</td>\n",
       "      <td>2011</td>\n",
       "      <td>Developing</td>\n",
       "      <td>81.7</td>\n",
       "      <td>83.0</td>\n",
       "      <td>3.0</td>\n",
       "      <td>11.80</td>\n",
       "      <td>683.919057</td>\n",
       "      <td>74.0</td>\n",
       "      <td>269.5</td>\n",
       "      <td>...</td>\n",
       "      <td>99.0</td>\n",
       "      <td>11.33</td>\n",
       "      <td>99.0</td>\n",
       "      <td>0.1</td>\n",
       "      <td>4381.28800</td>\n",
       "      <td>0.6</td>\n",
       "      <td>0.6</td>\n",
       "      <td>0.882</td>\n",
       "      <td>16.1</td>\n",
       "      <td>Elevé</td>\n",
       "    </tr>\n",
       "    <tr>\n",
       "      <th>935</th>\n",
       "      <td>France</td>\n",
       "      <td>2010</td>\n",
       "      <td>Developing</td>\n",
       "      <td>81.3</td>\n",
       "      <td>86.0</td>\n",
       "      <td>3.0</td>\n",
       "      <td>11.70</td>\n",
       "      <td>72.800121</td>\n",
       "      <td>65.0</td>\n",
       "      <td>5048.0</td>\n",
       "      <td>...</td>\n",
       "      <td>99.0</td>\n",
       "      <td>11.20</td>\n",
       "      <td>99.0</td>\n",
       "      <td>0.1</td>\n",
       "      <td>473.34279</td>\n",
       "      <td>0.6</td>\n",
       "      <td>0.6</td>\n",
       "      <td>0.879</td>\n",
       "      <td>16.0</td>\n",
       "      <td>Elevé</td>\n",
       "    </tr>\n",
       "    <tr>\n",
       "      <th>936</th>\n",
       "      <td>France</td>\n",
       "      <td>2009</td>\n",
       "      <td>Developing</td>\n",
       "      <td>81.1</td>\n",
       "      <td>88.0</td>\n",
       "      <td>3.0</td>\n",
       "      <td>11.80</td>\n",
       "      <td>6415.357350</td>\n",
       "      <td>51.0</td>\n",
       "      <td>1541.0</td>\n",
       "      <td>...</td>\n",
       "      <td>98.0</td>\n",
       "      <td>11.28</td>\n",
       "      <td>98.0</td>\n",
       "      <td>0.1</td>\n",
       "      <td>41631.13141</td>\n",
       "      <td>0.6</td>\n",
       "      <td>0.6</td>\n",
       "      <td>0.879</td>\n",
       "      <td>16.0</td>\n",
       "      <td>Elevé</td>\n",
       "    </tr>\n",
       "    <tr>\n",
       "      <th>937</th>\n",
       "      <td>France</td>\n",
       "      <td>2008</td>\n",
       "      <td>Developing</td>\n",
       "      <td>89.0</td>\n",
       "      <td>88.0</td>\n",
       "      <td>3.0</td>\n",
       "      <td>11.90</td>\n",
       "      <td>7002.785925</td>\n",
       "      <td>47.0</td>\n",
       "      <td>604.0</td>\n",
       "      <td>...</td>\n",
       "      <td>98.0</td>\n",
       "      <td>1.57</td>\n",
       "      <td>98.0</td>\n",
       "      <td>0.1</td>\n",
       "      <td>45413.65710</td>\n",
       "      <td>0.6</td>\n",
       "      <td>0.6</td>\n",
       "      <td>0.877</td>\n",
       "      <td>16.1</td>\n",
       "      <td>Elevé</td>\n",
       "    </tr>\n",
       "    <tr>\n",
       "      <th>938</th>\n",
       "      <td>France</td>\n",
       "      <td>2007</td>\n",
       "      <td>Developing</td>\n",
       "      <td>89.0</td>\n",
       "      <td>89.0</td>\n",
       "      <td>3.0</td>\n",
       "      <td>12.20</td>\n",
       "      <td>64.737149</td>\n",
       "      <td>42.0</td>\n",
       "      <td>39.0</td>\n",
       "      <td>...</td>\n",
       "      <td>99.0</td>\n",
       "      <td>1.45</td>\n",
       "      <td>98.0</td>\n",
       "      <td>0.1</td>\n",
       "      <td>416.58397</td>\n",
       "      <td>0.6</td>\n",
       "      <td>0.6</td>\n",
       "      <td>0.873</td>\n",
       "      <td>16.1</td>\n",
       "      <td>Elevé</td>\n",
       "    </tr>\n",
       "    <tr>\n",
       "      <th>939</th>\n",
       "      <td>France</td>\n",
       "      <td>2006</td>\n",
       "      <td>Developing</td>\n",
       "      <td>86.0</td>\n",
       "      <td>92.0</td>\n",
       "      <td>3.0</td>\n",
       "      <td>12.40</td>\n",
       "      <td>5689.991931</td>\n",
       "      <td>39.0</td>\n",
       "      <td>40.0</td>\n",
       "      <td>...</td>\n",
       "      <td>99.0</td>\n",
       "      <td>1.53</td>\n",
       "      <td>99.0</td>\n",
       "      <td>0.1</td>\n",
       "      <td>36544.58530</td>\n",
       "      <td>0.6</td>\n",
       "      <td>0.6</td>\n",
       "      <td>0.870</td>\n",
       "      <td>16.1</td>\n",
       "      <td>Elevé</td>\n",
       "    </tr>\n",
       "    <tr>\n",
       "      <th>940</th>\n",
       "      <td>France</td>\n",
       "      <td>2005</td>\n",
       "      <td>Developing</td>\n",
       "      <td>81.0</td>\n",
       "      <td>93.0</td>\n",
       "      <td>3.0</td>\n",
       "      <td>12.20</td>\n",
       "      <td>5451.701225</td>\n",
       "      <td>35.0</td>\n",
       "      <td>36.0</td>\n",
       "      <td>...</td>\n",
       "      <td>98.0</td>\n",
       "      <td>1.60</td>\n",
       "      <td>98.0</td>\n",
       "      <td>0.1</td>\n",
       "      <td>34879.72633</td>\n",
       "      <td>0.6</td>\n",
       "      <td>0.6</td>\n",
       "      <td>0.860</td>\n",
       "      <td>15.5</td>\n",
       "      <td>Elevé</td>\n",
       "    </tr>\n",
       "    <tr>\n",
       "      <th>941</th>\n",
       "      <td>France</td>\n",
       "      <td>2004</td>\n",
       "      <td>Developing</td>\n",
       "      <td>82.0</td>\n",
       "      <td>94.0</td>\n",
       "      <td>3.0</td>\n",
       "      <td>13.18</td>\n",
       "      <td>5291.234786</td>\n",
       "      <td>35.0</td>\n",
       "      <td>4448.0</td>\n",
       "      <td>...</td>\n",
       "      <td>99.0</td>\n",
       "      <td>1.53</td>\n",
       "      <td>98.0</td>\n",
       "      <td>0.1</td>\n",
       "      <td>33874.74255</td>\n",
       "      <td>0.6</td>\n",
       "      <td>0.6</td>\n",
       "      <td>0.857</td>\n",
       "      <td>15.5</td>\n",
       "      <td>Elevé</td>\n",
       "    </tr>\n",
       "    <tr>\n",
       "      <th>942</th>\n",
       "      <td>France</td>\n",
       "      <td>2003</td>\n",
       "      <td>Developing</td>\n",
       "      <td>79.3</td>\n",
       "      <td>99.0</td>\n",
       "      <td>3.0</td>\n",
       "      <td>13.49</td>\n",
       "      <td>4572.441963</td>\n",
       "      <td>28.0</td>\n",
       "      <td>0.0</td>\n",
       "      <td>...</td>\n",
       "      <td>96.0</td>\n",
       "      <td>1.43</td>\n",
       "      <td>97.0</td>\n",
       "      <td>0.1</td>\n",
       "      <td>29691.18158</td>\n",
       "      <td>0.6</td>\n",
       "      <td>0.6</td>\n",
       "      <td>0.852</td>\n",
       "      <td>15.4</td>\n",
       "      <td>Elevé</td>\n",
       "    </tr>\n",
       "    <tr>\n",
       "      <th>943</th>\n",
       "      <td>France</td>\n",
       "      <td>2002</td>\n",
       "      <td>Developing</td>\n",
       "      <td>79.2</td>\n",
       "      <td>11.0</td>\n",
       "      <td>3.0</td>\n",
       "      <td>13.78</td>\n",
       "      <td>3779.655273</td>\n",
       "      <td>29.0</td>\n",
       "      <td>5185.0</td>\n",
       "      <td>...</td>\n",
       "      <td>97.0</td>\n",
       "      <td>1.22</td>\n",
       "      <td>97.0</td>\n",
       "      <td>0.1</td>\n",
       "      <td>24275.24260</td>\n",
       "      <td>0.7</td>\n",
       "      <td>0.6</td>\n",
       "      <td>0.851</td>\n",
       "      <td>15.5</td>\n",
       "      <td>Elevé</td>\n",
       "    </tr>\n",
       "    <tr>\n",
       "      <th>944</th>\n",
       "      <td>France</td>\n",
       "      <td>2001</td>\n",
       "      <td>Developing</td>\n",
       "      <td>79.0</td>\n",
       "      <td>13.0</td>\n",
       "      <td>3.0</td>\n",
       "      <td>13.89</td>\n",
       "      <td>3451.185079</td>\n",
       "      <td>28.0</td>\n",
       "      <td>0.0</td>\n",
       "      <td>...</td>\n",
       "      <td>98.0</td>\n",
       "      <td>9.89</td>\n",
       "      <td>97.0</td>\n",
       "      <td>0.1</td>\n",
       "      <td>22527.31775</td>\n",
       "      <td>0.7</td>\n",
       "      <td>0.6</td>\n",
       "      <td>0.849</td>\n",
       "      <td>15.6</td>\n",
       "      <td>Elevé</td>\n",
       "    </tr>\n",
       "    <tr>\n",
       "      <th>945</th>\n",
       "      <td>France</td>\n",
       "      <td>2000</td>\n",
       "      <td>Developing</td>\n",
       "      <td>78.8</td>\n",
       "      <td>13.0</td>\n",
       "      <td>3.0</td>\n",
       "      <td>13.63</td>\n",
       "      <td>3410.284431</td>\n",
       "      <td>26.0</td>\n",
       "      <td>10000.0</td>\n",
       "      <td>...</td>\n",
       "      <td>98.0</td>\n",
       "      <td>9.77</td>\n",
       "      <td>97.0</td>\n",
       "      <td>0.1</td>\n",
       "      <td>22465.64184</td>\n",
       "      <td>0.7</td>\n",
       "      <td>0.6</td>\n",
       "      <td>0.844</td>\n",
       "      <td>15.7</td>\n",
       "      <td>Elevé</td>\n",
       "    </tr>\n",
       "  </tbody>\n",
       "</table>\n",
       "<p>16 rows × 22 columns</p>\n",
       "</div>"
      ],
      "text/plain": [
       "    Country  Year      Status  Life expectancy   Adult Mortality  \\\n",
       "930  France  2015  Developing              82.4             78.0   \n",
       "931  France  2014  Developing              82.2             79.0   \n",
       "932  France  2013  Developing              82.0             81.0   \n",
       "933  France  2012  Developing              81.5             83.0   \n",
       "934  France  2011  Developing              81.7             83.0   \n",
       "935  France  2010  Developing              81.3             86.0   \n",
       "936  France  2009  Developing              81.1             88.0   \n",
       "937  France  2008  Developing              89.0             88.0   \n",
       "938  France  2007  Developing              89.0             89.0   \n",
       "939  France  2006  Developing              86.0             92.0   \n",
       "940  France  2005  Developing              81.0             93.0   \n",
       "941  France  2004  Developing              82.0             94.0   \n",
       "942  France  2003  Developing              79.3             99.0   \n",
       "943  France  2002  Developing              79.2             11.0   \n",
       "944  France  2001  Developing              79.0             13.0   \n",
       "945  France  2000  Developing              78.8             13.0   \n",
       "\n",
       "     infant deaths  Alcohol  percentage expenditure  Hepatitis B  Measles   \\\n",
       "930            3.0    12.20                0.000000         86.0     157.0   \n",
       "931            3.0    11.50             6739.677606         83.0     267.0   \n",
       "932            3.0    11.10             6646.953935         74.0     272.0   \n",
       "933            3.0    11.50              751.379355         78.0       0.0   \n",
       "934            3.0    11.80              683.919057         74.0     269.5   \n",
       "935            3.0    11.70               72.800121         65.0    5048.0   \n",
       "936            3.0    11.80             6415.357350         51.0    1541.0   \n",
       "937            3.0    11.90             7002.785925         47.0     604.0   \n",
       "938            3.0    12.20               64.737149         42.0      39.0   \n",
       "939            3.0    12.40             5689.991931         39.0      40.0   \n",
       "940            3.0    12.20             5451.701225         35.0      36.0   \n",
       "941            3.0    13.18             5291.234786         35.0    4448.0   \n",
       "942            3.0    13.49             4572.441963         28.0       0.0   \n",
       "943            3.0    13.78             3779.655273         29.0    5185.0   \n",
       "944            3.0    13.89             3451.185079         28.0       0.0   \n",
       "945            3.0    13.63             3410.284431         26.0   10000.0   \n",
       "\n",
       "     ...  Polio  Total expenditure  Diphtheria    HIV/AIDS          GDP  \\\n",
       "930  ...   98.0               9.77         98.0        0.1  36526.77110   \n",
       "931  ...   98.0              11.54         98.0        0.1  42955.24287   \n",
       "932  ...   99.0              11.56         99.0        0.1  42554.12250   \n",
       "933  ...   99.0              11.44         99.0        0.1   4838.24440   \n",
       "934  ...   99.0              11.33         99.0        0.1   4381.28800   \n",
       "935  ...   99.0              11.20         99.0        0.1    473.34279   \n",
       "936  ...   98.0              11.28         98.0        0.1  41631.13141   \n",
       "937  ...   98.0               1.57         98.0        0.1  45413.65710   \n",
       "938  ...   99.0               1.45         98.0        0.1    416.58397   \n",
       "939  ...   99.0               1.53         99.0        0.1  36544.58530   \n",
       "940  ...   98.0               1.60         98.0        0.1  34879.72633   \n",
       "941  ...   99.0               1.53         98.0        0.1  33874.74255   \n",
       "942  ...   96.0               1.43         97.0        0.1  29691.18158   \n",
       "943  ...   97.0               1.22         97.0        0.1  24275.24260   \n",
       "944  ...   98.0               9.89         97.0        0.1  22527.31775   \n",
       "945  ...   98.0               9.77         97.0        0.1  22465.64184   \n",
       "\n",
       "      thinness  1-19 years   thinness 5-9 years  \\\n",
       "930                    0.7                  0.6   \n",
       "931                    0.6                  0.6   \n",
       "932                    0.6                  0.6   \n",
       "933                    0.6                  0.6   \n",
       "934                    0.6                  0.6   \n",
       "935                    0.6                  0.6   \n",
       "936                    0.6                  0.6   \n",
       "937                    0.6                  0.6   \n",
       "938                    0.6                  0.6   \n",
       "939                    0.6                  0.6   \n",
       "940                    0.6                  0.6   \n",
       "941                    0.6                  0.6   \n",
       "942                    0.6                  0.6   \n",
       "943                    0.7                  0.6   \n",
       "944                    0.7                  0.6   \n",
       "945                    0.7                  0.6   \n",
       "\n",
       "     Income composition of resources  Schooling  Life expectancy categories  \n",
       "930                            0.894       16.3                       Elevé  \n",
       "931                            0.890       16.2                       Elevé  \n",
       "932                            0.887       16.2                       Elevé  \n",
       "933                            0.885       16.1                       Elevé  \n",
       "934                            0.882       16.1                       Elevé  \n",
       "935                            0.879       16.0                       Elevé  \n",
       "936                            0.879       16.0                       Elevé  \n",
       "937                            0.877       16.1                       Elevé  \n",
       "938                            0.873       16.1                       Elevé  \n",
       "939                            0.870       16.1                       Elevé  \n",
       "940                            0.860       15.5                       Elevé  \n",
       "941                            0.857       15.5                       Elevé  \n",
       "942                            0.852       15.4                       Elevé  \n",
       "943                            0.851       15.5                       Elevé  \n",
       "944                            0.849       15.6                       Elevé  \n",
       "945                            0.844       15.7                       Elevé  \n",
       "\n",
       "[16 rows x 22 columns]"
      ]
     },
     "execution_count": 36,
     "metadata": {},
     "output_type": "execute_result"
    }
   ],
   "source": [
    "# Ajout de colonnes\n",
    "\n",
    "## Rajout d'une colonne avec la catégorie 'Life expectancy categories'\n",
    "\n",
    "### Valeurs de séparation des classes avec les Labels correspondants\n",
    "### -->  36 < 'Faible' < 66 < 'Moyen' < 74 < 'Elevé < 90\n",
    "### Les valeurs sont issues de la colonne 'Life expectancy '\n",
    "bins = [36, 66, 74, 90]\n",
    "labels = ['Faible', 'Moyen', 'Elevé']\n",
    "df['Life expectancy categories'] = pd.cut(df['Life expectancy '], bins=bins, labels=labels)\n",
    "\n",
    "# Vérification sur les 5 premières lignes\n",
    "df.head(5)\n",
    "# Ou sur une variable en particulier\n",
    "df.loc[df['Country']=='France']"
   ]
  },
  {
   "attachments": {},
   "cell_type": "markdown",
   "metadata": {},
   "source": [
    "#### 4.2 -  Contrôle"
   ]
  },
  {
   "cell_type": "code",
   "execution_count": 37,
   "metadata": {},
   "outputs": [
    {
     "data": {
      "text/plain": [
       "Country                            0\n",
       "Year                               0\n",
       "Status                             0\n",
       "Life expectancy                    0\n",
       "Adult Mortality                    0\n",
       "infant deaths                      0\n",
       "Alcohol                            0\n",
       "percentage expenditure             0\n",
       "Hepatitis B                        0\n",
       "Measles                            0\n",
       " BMI                               0\n",
       "under-five deaths                  0\n",
       "Polio                              0\n",
       "Total expenditure                  0\n",
       "Diphtheria                         0\n",
       " HIV/AIDS                          0\n",
       "GDP                                0\n",
       " thinness  1-19 years              0\n",
       " thinness 5-9 years                0\n",
       "Income composition of resources    0\n",
       "Schooling                          0\n",
       "Life expectancy categories         0\n",
       "dtype: int64"
      ]
     },
     "execution_count": 37,
     "metadata": {},
     "output_type": "execute_result"
    }
   ],
   "source": [
    "# Vérification du nombre de cellules vides par colonnes\n",
    "df.isnull().sum()"
   ]
  },
  {
   "attachments": {},
   "cell_type": "markdown",
   "metadata": {},
   "source": [
    "# II - Préparation de l'Analyse"
   ]
  },
  {
   "attachments": {},
   "cell_type": "markdown",
   "metadata": {},
   "source": [
    "### 1 - Prétraitement"
   ]
  },
  {
   "cell_type": "code",
   "execution_count": 38,
   "metadata": {},
   "outputs": [
    {
     "name": "stdout",
     "output_type": "stream",
     "text": [
      "Ensemble colonnes existantes :\n"
     ]
    },
    {
     "data": {
      "text/plain": [
       "Index(['Country', 'Year', 'Status', 'Life expectancy ', 'Adult Mortality',\n",
       "       'infant deaths', 'Alcohol', 'percentage expenditure', 'Hepatitis B',\n",
       "       'Measles ', ' BMI ', 'under-five deaths ', 'Polio', 'Total expenditure',\n",
       "       'Diphtheria ', ' HIV/AIDS', 'GDP', ' thinness  1-19 years',\n",
       "       ' thinness 5-9 years', 'Income composition of resources', 'Schooling',\n",
       "       'Life expectancy categories'],\n",
       "      dtype='object')"
      ]
     },
     "execution_count": 38,
     "metadata": {},
     "output_type": "execute_result"
    }
   ],
   "source": [
    "# Récupération des noms des colonnes afin de les copier/coller pour la suite\n",
    "## Permet de voir si il y a des 'espaces' parasites ...\n",
    "print(\"Ensemble colonnes existantes :\")\n",
    "df.columns[:]"
   ]
  },
  {
   "cell_type": "code",
   "execution_count": 39,
   "metadata": {},
   "outputs": [
    {
     "name": "stdout",
     "output_type": "stream",
     "text": [
      "Séparation des Données cibles / Caractéristiques...\n",
      "...Fait.\n",
      "\n"
     ]
    }
   ],
   "source": [
    "# Séparation du Dataset en deux parties\n",
    "## Les colonnes de caractéristiques : 'X'\n",
    "## La colonne de données que l'on veut prédire : 'y' \n",
    "\n",
    "print(\"Séparation des Données cibles / Caractéristiques...\")\n",
    "\n",
    "## Choisissez les colonnes que vous voulez en caractéristiques\n",
    "features_list=['Adult Mortality',#\n",
    "               #'infant deaths',\n",
    "               'Alcohol',#\n",
    "               'percentage expenditure',#\n",
    "               'Hepatitis B',#\n",
    "               'Measles ',#\n",
    "               ' BMI ',#\n",
    "               'under-five deaths ',#\n",
    "               'Polio',#\n",
    "               'Total expenditure',#\n",
    "               'Diphtheria ',#\n",
    "               ' HIV/AIDS',#\n",
    "               'GDP',#\n",
    "               ' thinness  1-19 years',#\n",
    "               ' thinness 5-9 years',#\n",
    "               'Income composition of resources',#\n",
    "               'Schooling'#\n",
    "               ]\n",
    "\n",
    "X = df.loc[:,features_list] # Nous ajoutons la liste 'features_list' à notre 'loc' \n",
    "y = df.loc[:,'Life expectancy categories'] # Nous définissons  '---' comme étant la variable cible (celle à prédire)\n",
    "\n",
    "print(\"...Fait.\")\n",
    "print()"
   ]
  },
  {
   "cell_type": "code",
   "execution_count": 40,
   "metadata": {},
   "outputs": [
    {
     "name": "stdout",
     "output_type": "stream",
     "text": [
      "Séparation du Dataset en un set d'entrainement et un set de test...\n",
      "...Fait.\n"
     ]
    }
   ],
   "source": [
    "# Séparation en deux Dataset : Entrainement ('Train') & Test ('Test')\n",
    "print(\"Séparation du Dataset en un set d'entrainement et un set de test...\")\n",
    "\n",
    "X_train, X_test, y_train, y_test = train_test_split(X, y, \n",
    "                                                    test_size=0.2,  # ici le set de test fait 20 % du Total\n",
    "                                                    random_state=0, # une séquence de nombre aléatoire (mais reproductible) \n",
    "                                                    stratify=y)     # OBLIGATOIRE si il y a une classification en 'y'\n",
    "                                                                    # Permet d'avoir la même proportion de chaque classe\n",
    "                                                                    # dans le train_set et le test_set\n",
    "\n",
    "print(\"...Fait.\") "
   ]
  },
  {
   "cell_type": "code",
   "execution_count": 41,
   "metadata": {},
   "outputs": [
    {
     "name": "stdout",
     "output_type": "stream",
     "text": [
      "Encodage des données catégorielles & Normalisation des données numériques...\n",
      "\n",
      "...Fait.\n"
     ]
    }
   ],
   "source": [
    "# Encodage des données catégorielles & Normalisation des données numériques\n",
    "# !!! LES NOMS DES COLONNES NE PORTENT SUR LE JEU DE DONNEES 'X_train' !!!\n",
    "\n",
    "#print(\"#### X_train AVANT le prétraitement ####\")\n",
    "#print(X_train.head(5))\n",
    "\n",
    "print(\"Encodage des données catégorielles & Normalisation des données numériques...\")\n",
    "print()\n",
    "## StandardScaler pour normaliser les données(i.e appliquer Z-score)\n",
    "## OneHotEncoder pour encoder les données catégorielles\n",
    "\n",
    "# Partie données Numériques \n",
    "numeric_features = features_list\n",
    "numeric_transformer = StandardScaler()\n",
    "\n",
    "# Partie données catégorielles\n",
    "# categorical_features = df.loc[:,'Life expectancy categories']\n",
    "# categorical_transformer = OneHotEncoder()\n",
    "\n",
    "\n",
    "# Utilisation de ColumnTransformer pour appliquer le prétraitement ci-dessus \n",
    "feature_encoder = ColumnTransformer(\n",
    "    transformers=[\n",
    "        #('cat', categorical_transformer, categorical_features),    \n",
    "        ('num', numeric_transformer, numeric_features)\n",
    "        ]\n",
    ")\n",
    "X_train = feature_encoder.fit_transform(X_train)\n",
    "print(\"...Fait.\")\n",
    "\n",
    "#print(\"#### X_train APRES le prétraitement ####\")\n",
    "#print(X_train[0:5,:]) # Affiche les 5 premières lignes (not using iloc since now y_train became a numpy array)"
   ]
  },
  {
   "attachments": {},
   "cell_type": "markdown",
   "metadata": {},
   "source": [
    "### 2 - Construction du modèle"
   ]
  },
  {
   "attachments": {},
   "cell_type": "markdown",
   "metadata": {},
   "source": [
    "Il existe plusieurs types de modèles d'entrainement:\n",
    "- regressor = LinearRegression()            --> 'Régression Linéaire Simple'\n",
    "- classifier = LogisticRegression()         --> 'Régression Minéaire Multiple'  \n",
    "- classifier = DecisionTreeClassifier       --> 'Arbre de Décision'  \n",
    "- classifier = RandomForestClassifier         --> 'Forêt aléatoire'"
   ]
  },
  {
   "cell_type": "code",
   "execution_count": 42,
   "metadata": {},
   "outputs": [
    {
     "name": "stdout",
     "output_type": "stream",
     "text": [
      "Création du modèle d'entrainement...\n",
      "...Fait.\n"
     ]
    }
   ],
   "source": [
    "# Création du modèle d'entrainement\n",
    "\n",
    "print(\"Création du modèle d'entrainement...\")\n",
    "classifier = LogisticRegression() # type du Modèle d'entrainement\n",
    "classifier.fit(X_train, y_train) # Cette étape EST l'entrainement ! (grâce au .fit)\n",
    "print(\"...Fait.\")"
   ]
  },
  {
   "cell_type": "code",
   "execution_count": 43,
   "metadata": {},
   "outputs": [
    {
     "name": "stdout",
     "output_type": "stream",
     "text": [
      "Prédictions sur le set d'entrainement...\n",
      "...Fait.\n",
      "\n",
      "['Elevé' 'Elevé' 'Faible' 'Moyen' 'Moyen']\n"
     ]
    }
   ],
   "source": [
    "# Test du modèle d'entrainement\n",
    "\n",
    "print(\"Prédictions sur le set d'entrainement...\")\n",
    "y_train_pred = classifier.predict(X_train)\n",
    "print(\"...Fait.\")\n",
    "print()\n",
    "print(y_train_pred[:5]) # sort les 5 premières lignes  (not using iloc since now y_train became a numpy array)"
   ]
  },
  {
   "cell_type": "code",
   "execution_count": 44,
   "metadata": {},
   "outputs": [
    {
     "name": "stdout",
     "output_type": "stream",
     "text": [
      "--- Lancement du Test ---\n",
      "\n",
      "Normalisation des données numériques...\n",
      "...Fait.\n"
     ]
    }
   ],
   "source": [
    "### Lancement du Test ###\n",
    "\n",
    "print(\"--- Lancement du Test ---\")\n",
    "print()\n",
    "\n",
    "# Préparation des données de tests\n",
    "# Standardizing numeric features\n",
    "print(\"Normalisation des données numériques...\")\n",
    "#print(X_test)\n",
    "#print()\n",
    "\n",
    "X_test = feature_encoder.transform(X_test)\n",
    "\n",
    "print(\"...Fait.\")\n",
    "#print(X_test[:5]) # sort les 5 premières lignes  (not using iloc since now y_train became a numpy array)\n",
    "#print()"
   ]
  },
  {
   "cell_type": "code",
   "execution_count": 45,
   "metadata": {},
   "outputs": [
    {
     "name": "stdout",
     "output_type": "stream",
     "text": [
      "Prédictions sur le set de test...\n",
      "...Fait.\n",
      "\n",
      "['Moyen' 'Faible' 'Elevé' 'Elevé' 'Moyen']\n"
     ]
    }
   ],
   "source": [
    "# Prédictions sur le set de test\n",
    "print(\"Prédictions sur le set de test...\")\n",
    "y_test_pred = classifier.predict(X_test)\n",
    "print(\"...Fait.\")\n",
    "print()\n",
    "print(y_test_pred[:5]) # sort les 5 premières lignes  (not using iloc since now y_train became a numpy array)"
   ]
  },
  {
   "attachments": {},
   "cell_type": "markdown",
   "metadata": {},
   "source": [
    "### 3 - Évaluation de la performance du modèle"
   ]
  },
  {
   "cell_type": "code",
   "execution_count": 46,
   "metadata": {},
   "outputs": [
    {
     "name": "stdout",
     "output_type": "stream",
     "text": [
      "--- Évaluation de la performance du modèle ---\n",
      "\n",
      "R2 score on train set :  0.8032961190855927\n",
      "R2 score on test set :  0.8046709129511678\n",
      "\n",
      "R^2_train - R^2_test = -0.0013747938655750414\n",
      "\n",
      "Si R^2 est proche de 1   --> 'Bonnes performances du modèle'\n",
      "Si R^2_train > R^2_test  --> 'Sur-ajustement ou overfiting'\n",
      "Si R^2_train < R^2_test  --> 'Sous-ajustement ou underfiting'\n"
     ]
    }
   ],
   "source": [
    "# Évaluation de la performance\n",
    "print(\"--- Évaluation de la performance du modèle ---\")\n",
    "print()\n",
    "# Scores R^2\n",
    "print(\"R2 score on train set : \", classifier.score(X_train, y_train))\n",
    "print(\"R2 score on test set : \", classifier.score(X_test, y_test))\n",
    "print()\n",
    "print('R^2_train - R^2_test =',format(classifier.score(X_train, y_train)-classifier.score(X_test, y_test)))\n",
    "print()\n",
    "print(\"Si R^2 est proche de 1   --> 'Bonnes performances du modèle'\")\n",
    "print(\"Si R^2_train > R^2_test  --> 'Sur-ajustement ou overfiting'\")\n",
    "print(\"Si R^2_train < R^2_test  --> 'Sous-ajustement ou underfiting'\")"
   ]
  },
  {
   "attachments": {},
   "cell_type": "markdown",
   "metadata": {},
   "source": [
    "#### Dans le cas d'une classification  \n",
    "  \n",
    "Dans le cas d'une classification nous pouvons créer des Matrices de confusions afin de mieux visualiser les résultats"
   ]
  },
  {
   "cell_type": "code",
   "execution_count": 47,
   "metadata": {},
   "outputs": [
    {
     "name": "stdout",
     "output_type": "stream",
     "text": [
      "--- Évaluation de la performance du modèle ---\n",
      "----------- Matrices de confusions -----------\n"
     ]
    },
    {
     "data": {
      "image/png": "[encoded data removed]",
      "text/plain": [
       "<Figure size 640x480 with 2 Axes>"
      ]
     },
     "metadata": {},
     "output_type": "display_data"
    },
    {
     "name": "stdout",
     "output_type": "stream",
     "text": [
      "précision du score sur l'ensemble d'entrainement' :  0.8032961190855927\n"
     ]
    },
    {
     "data": {
      "image/png": "[encoded data removed]",
      "text/plain": [
       "<Figure size 640x480 with 2 Axes>"
      ]
     },
     "metadata": {},
     "output_type": "display_data"
    },
    {
     "name": "stdout",
     "output_type": "stream",
     "text": [
      "précision du score sur l'ensemble de test :  0.8046709129511678\n"
     ]
    }
   ],
   "source": [
    "### Évaluation de la performance ###\n",
    "print(\"--- Évaluation de la performance du modèle ---\")\n",
    "print(\"----------- Matrices de confusions -----------\")\n",
    "\n",
    "\n",
    "\n",
    "# Plot confusion matrix\n",
    "train_cm = ConfusionMatrixDisplay.from_estimator(classifier, X_train, y_train)\n",
    "plt.title(\"Confusion matrix on train set\")\n",
    "plt.show()\n",
    "print(\"précision du score sur l'ensemble d'entrainement' : \", classifier.score(X_train, y_train))\n",
    "\n",
    "test_cm = ConfusionMatrixDisplay.from_estimator(classifier, X_test, y_test)\n",
    "plt.title(\"Confusion matrix on test set\")\n",
    "plt.show()\n",
    "print(\"précision du score sur l'ensemble de test : \", classifier.score(X_test, y_test))"
   ]
  },
  {
   "attachments": {},
   "cell_type": "markdown",
   "metadata": {},
   "source": [
    "### 4 - Importance des données"
   ]
  },
  {
   "cell_type": "code",
   "execution_count": 48,
   "metadata": {},
   "outputs": [
    {
     "name": "stdout",
     "output_type": "stream",
     "text": [
      "Les coefficients sont :  [[-1.28492561  0.03641313  1.13843407  0.01661324  0.25213351  0.08793802\n",
      "  -0.4516387   0.11541091  0.36183253  0.22267234 -2.32149468  0.88411499\n",
      "   0.41278619 -0.61789422  0.81328291  0.69309865]\n",
      " [ 1.0987066  -0.03035322 -1.64138022  0.06653624 -0.19157323 -0.22108031\n",
      "   0.30179538 -0.12500074 -0.27038896 -0.29565484  3.48936103 -1.43490557\n",
      "  -0.08701008  0.25524708 -0.67738477 -0.68174599]\n",
      " [ 0.18621901 -0.00605992  0.50294616 -0.08314948 -0.06056028  0.13314228\n",
      "   0.14984333  0.00958982 -0.09144358  0.0729825  -1.16786634  0.55079058\n",
      "  -0.3257761   0.36264714 -0.13589815 -0.01135266]]\n",
      "La constante est:  [-0.74028159 -0.4838812   1.22416279]\n"
     ]
    }
   ],
   "source": [
    "# Récupération des coefficients et des constantes de la fonction de décision du modèle\n",
    "print(\"Les coefficients sont : \", classifier.coef_) \n",
    "print(\"La constante est: \", classifier.intercept_)"
   ]
  },
  {
   "cell_type": "code",
   "execution_count": 49,
   "metadata": {},
   "outputs": [
    {
     "name": "stdout",
     "output_type": "stream",
     "text": [
      "                      feature_names  coefficients\n",
      "2            percentage expenditure      1.138434\n",
      "11                              GDP      0.884115\n",
      "14  Income composition of resources      0.813283\n",
      "15                        Schooling      0.693099\n",
      "12             thinness  1-19 years      0.412786\n",
      "8                 Total expenditure      0.361833\n",
      "4                          Measles       0.252134\n",
      "9                       Diphtheria       0.222672\n",
      "7                             Polio      0.115411\n",
      "5                              BMI       0.087938\n",
      "1                           Alcohol      0.036413\n",
      "3                       Hepatitis B      0.016613\n",
      "6                under-five deaths      -0.451639\n",
      "13               thinness 5-9 years     -0.617894\n",
      "0                   Adult Mortality     -1.284926\n",
      "10                         HIV/AIDS     -2.321495\n"
     ]
    }
   ],
   "source": [
    "# Pour faciliter l'interprétation nous pouvons aussi  faire la _\n",
    "# création d'un DataFrame avec les noms de colonnes et les coefficients:\n",
    "coef_df = pd.DataFrame({\n",
    "    \"feature_names\": X.columns,\n",
    "    \"coefficients\": classifier.coef_[0]\n",
    "})\n",
    "\n",
    "# Tri des coefficients par ordre décroissant\n",
    "coef_df = coef_df.sort_values(by=\"coefficients\", ascending=False)\n",
    "# Affichage du DataFrame des coefficients\n",
    "print(coef_df)"
   ]
  },
  {
   "cell_type": "code",
   "execution_count": 50,
   "metadata": {},
   "outputs": [
    {
     "data": {
      "text/plain": [
       "<function matplotlib.pyplot.show(close=None, block=None)>"
      ]
     },
     "execution_count": 50,
     "metadata": {},
     "output_type": "execute_result"
    },
    {
     "data": {
      "image/png": "[encoded data removed]",
      "text/plain": [
       "<Figure size 800x400 with 1 Axes>"
      ]
     },
     "metadata": {},
     "output_type": "display_data"
    }
   ],
   "source": [
    "# Met les coefficients en valeur absolue pour ranger les données\n",
    "coef_df['abs_coefficients'] = np.abs(coef_df['coefficients'])\n",
    "\n",
    "# Visualisation du rang des caractéristiques avec seaborn\n",
    "g = sns.catplot(x=\"feature_names\", \n",
    "            y=\"abs_coefficients\", \n",
    "            data=coef_df.sort_values(by=\"abs_coefficients\", ascending=False), \n",
    "            kind=\"bar\",\n",
    "            height= 4,\n",
    "            aspect=2) # Redimentionne le graph (2* plus large que haut)\n",
    "\n",
    "g.ax.set_xticklabels(g.ax.get_xticklabels(), rotation=45, ha='right')\n",
    "\n",
    "plt.show"
   ]
  }
 ],
 "metadata": {
  "kernelspec": {
   "display_name": "base",
   "language": "python",
   "name": "python3"
  },
  "language_info": {
   "codemirror_mode": {
    "name": "ipython",
    "version": 3
   },
   "file_extension": ".py",
   "mimetype": "text/x-python",
   "name": "python",
   "nbconvert_exporter": "python",
   "pygments_lexer": "ipython3",
   "version": "3.10.9"
  },
  "orig_nbformat": 4
 },
 "nbformat": 4,
 "nbformat_minor": 2
}
